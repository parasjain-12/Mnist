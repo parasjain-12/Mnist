{
  "nbformat": 4,
  "nbformat_minor": 0,
  "metadata": {
    "colab": {
      "name": " Paras_Batch_1_Assinment4a.ipynb",
      "version": "0.3.2",
      "views": {},
      "default_view": {},
      "provenance": [],
      "collapsed_sections": []
    },
    "kernelspec": {
      "name": "python3",
      "display_name": "Python 3"
    },
    "accelerator": "GPU"
  },
  "cells": [
    {
      "metadata": {
        "id": "fFtmY2MwN9Kx",
        "colab_type": "code",
        "colab": {
          "autoexec": {
            "startup": false,
            "wait_interval": 0
          },
          "base_uri": "https://localhost:8080/",
          "height": 34
        },
        "outputId": "5c01adb7-2c97-4087-bc74-f5f79c349f11",
        "executionInfo": {
          "status": "ok",
          "timestamp": 1525529261512,
          "user_tz": -330,
          "elapsed": 10668,
          "user": {
            "displayName": "Paras Jain",
            "photoUrl": "https://lh3.googleusercontent.com/a/default-user=s128",
            "userId": "111167747528656409590"
          }
        }
      },
      "cell_type": "code",
      "source": [
        "import keras\n"
      ],
      "execution_count": 1,
      "outputs": [
        {
          "output_type": "stream",
          "text": [
            "Using TensorFlow backend.\n"
          ],
          "name": "stderr"
        }
      ]
    },
    {
      "metadata": {
        "id": "eKILS5bGN1Ia",
        "colab_type": "code",
        "colab": {
          "autoexec": {
            "startup": false,
            "wait_interval": 0
          }
        }
      },
      "cell_type": "code",
      "source": [
        "import numpy as np\n",
        "\n",
        "from keras.models import Sequential\n",
        "from keras.layers import Dense, Dropout, Activation, Flatten, Add\n",
        "from keras.layers import Convolution2D, MaxPooling2D\n",
        "from keras.utils import np_utils\n",
        "\n",
        "from keras.datasets import mnist"
      ],
      "execution_count": 0,
      "outputs": []
    },
    {
      "metadata": {
        "id": "GnFnrn51ON4T",
        "colab_type": "code",
        "colab": {
          "autoexec": {
            "startup": false,
            "wait_interval": 0
          },
          "base_uri": "https://localhost:8080/",
          "height": 52
        },
        "outputId": "21683323-5ccd-4b19-f8f0-96c174b8ce54",
        "executionInfo": {
          "status": "ok",
          "timestamp": 1525529266250,
          "user_tz": -330,
          "elapsed": 3749,
          "user": {
            "displayName": "Paras Jain",
            "photoUrl": "https://lh3.googleusercontent.com/a/default-user=s128",
            "userId": "111167747528656409590"
          }
        }
      },
      "cell_type": "code",
      "source": [
        "(X_train,y_train),(X_test,y_test) = mnist.load_data()"
      ],
      "execution_count": 3,
      "outputs": [
        {
          "output_type": "stream",
          "text": [
            "Downloading data from https://s3.amazonaws.com/img-datasets/mnist.npz\n",
            "11493376/11490434 [==============================] - 0s 0us/step\n"
          ],
          "name": "stdout"
        }
      ]
    },
    {
      "metadata": {
        "id": "Qfp1JpeyOeQe",
        "colab_type": "code",
        "colab": {
          "autoexec": {
            "startup": false,
            "wait_interval": 0
          },
          "base_uri": "https://localhost:8080/",
          "height": 34
        },
        "outputId": "5cc951b2-018c-40df-934b-beaf06ce61d5",
        "executionInfo": {
          "status": "ok",
          "timestamp": 1525529269229,
          "user_tz": -330,
          "elapsed": 2938,
          "user": {
            "displayName": "Paras Jain",
            "photoUrl": "https://lh3.googleusercontent.com/a/default-user=s128",
            "userId": "111167747528656409590"
          }
        }
      },
      "cell_type": "code",
      "source": [
        "X_train.shape[0]"
      ],
      "execution_count": 4,
      "outputs": [
        {
          "output_type": "execute_result",
          "data": {
            "text/plain": [
              "60000"
            ]
          },
          "metadata": {
            "tags": []
          },
          "execution_count": 4
        }
      ]
    },
    {
      "metadata": {
        "id": "vnY0lyFYOiGi",
        "colab_type": "code",
        "colab": {
          "autoexec": {
            "startup": false,
            "wait_interval": 0
          },
          "base_uri": "https://localhost:8080/",
          "height": 364
        },
        "outputId": "54a406db-f304-4297-b073-e30ce12e4b80",
        "executionInfo": {
          "status": "ok",
          "timestamp": 1525529272506,
          "user_tz": -330,
          "elapsed": 3093,
          "user": {
            "displayName": "Paras Jain",
            "photoUrl": "https://lh3.googleusercontent.com/a/default-user=s128",
            "userId": "111167747528656409590"
          }
        }
      },
      "cell_type": "code",
      "source": [
        "import matplotlib.pyplot as plt\n",
        "print(plt.imshow(X_train[0]))"
      ],
      "execution_count": 5,
      "outputs": [
        {
          "output_type": "stream",
          "text": [
            "AxesImage(72,49.5;446.4x298.98)\n"
          ],
          "name": "stdout"
        },
        {
          "output_type": "display_data",
          "data": {
            "image/png": "[encoded data removed]",
            "text/plain": [
              "<matplotlib.figure.Figure at 0x7fdce6d12438>"
            ]
          },
          "metadata": {
            "tags": []
          }
        }
      ]
    },
    {
      "metadata": {
        "id": "iXWzaBdDOsJT",
        "colab_type": "code",
        "colab": {
          "autoexec": {
            "startup": false,
            "wait_interval": 0
          },
          "base_uri": "https://localhost:8080/",
          "height": 34
        },
        "outputId": "083b722b-9285-4043-e328-2c66bba6d133",
        "executionInfo": {
          "status": "ok",
          "timestamp": 1525529274145,
          "user_tz": -330,
          "elapsed": 1541,
          "user": {
            "displayName": "Paras Jain",
            "photoUrl": "https://lh3.googleusercontent.com/a/default-user=s128",
            "userId": "111167747528656409590"
          }
        }
      },
      "cell_type": "code",
      "source": [
        "X_train = X_train.reshape(X_train.shape[0], 28, 28,1)\n",
        "X_test = X_test.reshape(X_test.shape[0], 28, 28,1)\n",
        "print(X_train.shape)"
      ],
      "execution_count": 6,
      "outputs": [
        {
          "output_type": "stream",
          "text": [
            "(60000, 28, 28, 1)\n"
          ],
          "name": "stdout"
        }
      ]
    },
    {
      "metadata": {
        "id": "IxvpVanhO5Zo",
        "colab_type": "code",
        "colab": {
          "autoexec": {
            "startup": false,
            "wait_interval": 0
          }
        }
      },
      "cell_type": "code",
      "source": [
        "X_train = X_train.astype('float32')\n",
        "X_test = X_test.astype('float32')\n",
        "X_train /= 255\n",
        "X_test /= 255"
      ],
      "execution_count": 0,
      "outputs": []
    },
    {
      "metadata": {
        "id": "emiQJ7mVPFfC",
        "colab_type": "code",
        "colab": {
          "autoexec": {
            "startup": false,
            "wait_interval": 0
          }
        }
      },
      "cell_type": "code",
      "source": [
        "Y_train = np_utils.to_categorical(y_train, 10)\n",
        "Y_test = np_utils.to_categorical(y_test, 10)\n"
      ],
      "execution_count": 0,
      "outputs": []
    },
    {
      "metadata": {
        "id": "IHAdQ55kPHa9",
        "colab_type": "code",
        "colab": {
          "autoexec": {
            "startup": false,
            "wait_interval": 0
          },
          "base_uri": "https://localhost:8080/",
          "height": 143
        },
        "outputId": "94b00633-20b7-4067-a791-4e132bc76764",
        "executionInfo": {
          "status": "ok",
          "timestamp": 1525529279230,
          "user_tz": -330,
          "elapsed": 991,
          "user": {
            "displayName": "Paras Jain",
            "photoUrl": "https://lh3.googleusercontent.com/a/default-user=s128",
            "userId": "111167747528656409590"
          }
        }
      },
      "cell_type": "code",
      "source": [
        "from keras.layers import Activation\n",
        "model = Sequential()\n",
        "\n",
        "\n",
        "model.add(Convolution2D(32, 3, 3, activation='relu', input_shape=(28,28,1)))\n",
        "model.add(MaxPooling2D(2,2))\n",
        "\n",
        "model.add(Convolution2D(10, 3,3, activation='relu'))\n",
        "model.add(MaxPooling2D(2,2))\n",
        "model.add(Convolution2D(10, 3,3,activation='relu'))\n",
        "model.add(Convolution2D(10,3))\n",
        "model.add(Flatten())\n",
        "model.add(Activation('softmax'))"
      ],
      "execution_count": 9,
      "outputs": [
        {
          "output_type": "stream",
          "text": [
            "/usr/local/lib/python3.6/dist-packages/ipykernel_launcher.py:5: UserWarning: Update your `Conv2D` call to the Keras 2 API: `Conv2D(32, (3, 3), activation=\"relu\", input_shape=(28, 28, 1...)`\n",
            "  \"\"\"\n",
            "/usr/local/lib/python3.6/dist-packages/ipykernel_launcher.py:8: UserWarning: Update your `Conv2D` call to the Keras 2 API: `Conv2D(10, (3, 3), activation=\"relu\")`\n",
            "  \n",
            "/usr/local/lib/python3.6/dist-packages/ipykernel_launcher.py:10: UserWarning: Update your `Conv2D` call to the Keras 2 API: `Conv2D(10, (3, 3), activation=\"relu\")`\n",
            "  # Remove the CWD from sys.path while we load stuff.\n"
          ],
          "name": "stderr"
        }
      ]
    },
    {
      "metadata": {
        "id": "QA7Q1te2PSHo",
        "colab_type": "code",
        "colab": {
          "autoexec": {
            "startup": false,
            "wait_interval": 0
          },
          "base_uri": "https://localhost:8080/",
          "height": 425
        },
        "outputId": "051a000b-d2ef-4d3c-c318-f2d4ad614760",
        "executionInfo": {
          "status": "ok",
          "timestamp": 1525529280186,
          "user_tz": -330,
          "elapsed": 828,
          "user": {
            "displayName": "Paras Jain",
            "photoUrl": "https://lh3.googleusercontent.com/a/default-user=s128",
            "userId": "111167747528656409590"
          }
        }
      },
      "cell_type": "code",
      "source": [
        "model.summary()"
      ],
      "execution_count": 10,
      "outputs": [
        {
          "output_type": "stream",
          "text": [
            "_________________________________________________________________\n",
            "Layer (type)                 Output Shape              Param #   \n",
            "=================================================================\n",
            "conv2d_1 (Conv2D)            (None, 26, 26, 32)        320       \n",
            "_________________________________________________________________\n",
            "max_pooling2d_1 (MaxPooling2 (None, 13, 13, 32)        0         \n",
            "_________________________________________________________________\n",
            "conv2d_2 (Conv2D)            (None, 11, 11, 10)        2890      \n",
            "_________________________________________________________________\n",
            "max_pooling2d_2 (MaxPooling2 (None, 5, 5, 10)          0         \n",
            "_________________________________________________________________\n",
            "conv2d_3 (Conv2D)            (None, 3, 3, 10)          910       \n",
            "_________________________________________________________________\n",
            "conv2d_4 (Conv2D)            (None, 1, 1, 10)          910       \n",
            "_________________________________________________________________\n",
            "flatten_1 (Flatten)          (None, 10)                0         \n",
            "_________________________________________________________________\n",
            "activation_1 (Activation)    (None, 10)                0         \n",
            "=================================================================\n",
            "Total params: 5,030\n",
            "Trainable params: 5,030\n",
            "Non-trainable params: 0\n",
            "_________________________________________________________________\n"
          ],
          "name": "stdout"
        }
      ]
    },
    {
      "metadata": {
        "id": "sB5XNfqNPwgi",
        "colab_type": "code",
        "colab": {
          "autoexec": {
            "startup": false,
            "wait_interval": 0
          }
        }
      },
      "cell_type": "code",
      "source": [
        ""
      ],
      "execution_count": 0,
      "outputs": []
    },
    {
      "metadata": {
        "id": "810DvlWVht5Z",
        "colab_type": "code",
        "colab": {
          "autoexec": {
            "startup": false,
            "wait_interval": 0
          }
        }
      },
      "cell_type": "code",
      "source": [
        "model.compile(loss='categorical_crossentropy',\n",
        "             optimizer='adam',\n",
        "             metrics=['accuracy'])"
      ],
      "execution_count": 0,
      "outputs": []
    },
    {
      "metadata": {
        "id": "0eDpRNVmhwyB",
        "colab_type": "code",
        "colab": {
          "autoexec": {
            "startup": false,
            "wait_interval": 0
          },
          "base_uri": "https://localhost:8080/",
          "height": 445
        },
        "outputId": "53ea9a7c-52c2-4d5c-a458-ed2c9a4c9315",
        "executionInfo": {
          "status": "ok",
          "timestamp": 1525529462470,
          "user_tz": -330,
          "elapsed": 180355,
          "user": {
            "displayName": "Paras Jain",
            "photoUrl": "https://lh3.googleusercontent.com/a/default-user=s128",
            "userId": "111167747528656409590"
          }
        }
      },
      "cell_type": "code",
      "source": [
        "model.fit(X_train, Y_train, batch_size=32, nb_epoch=10, verbose=1)"
      ],
      "execution_count": 12,
      "outputs": [
        {
          "output_type": "stream",
          "text": [
            "/usr/local/lib/python3.6/dist-packages/keras/models.py:981: UserWarning: The `nb_epoch` argument in `fit` has been renamed `epochs`.\n",
            "  warnings.warn('The `nb_epoch` argument in `fit` '\n"
          ],
          "name": "stderr"
        },
        {
          "output_type": "stream",
          "text": [
            "Epoch 1/10\n",
            "60000/60000 [==============================] - 20s 327us/step - loss: 0.2780 - acc: 0.9139\n",
            "Epoch 2/10\n",
            "60000/60000 [==============================] - 18s 298us/step - loss: 0.0939 - acc: 0.9714\n",
            "Epoch 3/10\n",
            " 3232/60000 [>.............................] - ETA: 16s - loss: 0.0677 - acc: 0.9774"
          ],
          "name": "stdout"
        },
        {
          "output_type": "stream",
          "text": [
            "60000/60000 [==============================] - 18s 293us/step - loss: 0.0747 - acc: 0.9767\n",
            "Epoch 4/10\n",
            "60000/60000 [==============================] - 18s 293us/step - loss: 0.0620 - acc: 0.9806\n",
            "Epoch 5/10\n",
            " 9504/60000 [===>..........................] - ETA: 14s - loss: 0.0571 - acc: 0.9812"
          ],
          "name": "stdout"
        },
        {
          "output_type": "stream",
          "text": [
            "60000/60000 [==============================] - 17s 290us/step - loss: 0.0561 - acc: 0.9822\n",
            "Epoch 6/10\n",
            "60000/60000 [==============================] - 18s 297us/step - loss: 0.0505 - acc: 0.9844\n",
            "Epoch 7/10\n",
            "11232/60000 [====>.........................] - ETA: 14s - loss: 0.0458 - acc: 0.9853"
          ],
          "name": "stdout"
        },
        {
          "output_type": "stream",
          "text": [
            "60000/60000 [==============================] - 18s 295us/step - loss: 0.0472 - acc: 0.9850\n",
            "Epoch 8/10\n",
            "60000/60000 [==============================] - 18s 292us/step - loss: 0.0430 - acc: 0.9866\n",
            "Epoch 9/10\n",
            "11776/60000 [====>.........................] - ETA: 14s - loss: 0.0405 - acc: 0.9885"
          ],
          "name": "stdout"
        },
        {
          "output_type": "stream",
          "text": [
            "60000/60000 [==============================] - 18s 295us/step - loss: 0.0413 - acc: 0.9870\n",
            "Epoch 10/10\n",
            "60000/60000 [==============================] - 18s 296us/step - loss: 0.0383 - acc: 0.9882\n"
          ],
          "name": "stdout"
        },
        {
          "output_type": "execute_result",
          "data": {
            "text/plain": [
              "<keras.callbacks.History at 0x7fdce68c1630>"
            ]
          },
          "metadata": {
            "tags": []
          },
          "execution_count": 12
        }
      ]
    },
    {
      "metadata": {
        "id": "WrI5Mc3Uh09-",
        "colab_type": "code",
        "colab": {
          "autoexec": {
            "startup": false,
            "wait_interval": 0
          }
        }
      },
      "cell_type": "code",
      "source": [
        "score = model.evaluate(X_test, Y_test, verbose=0)"
      ],
      "execution_count": 0,
      "outputs": []
    },
    {
      "metadata": {
        "id": "YwwmeCYah6MD",
        "colab_type": "code",
        "colab": {
          "autoexec": {
            "startup": false,
            "wait_interval": 0
          },
          "base_uri": "https://localhost:8080/",
          "height": 34
        },
        "outputId": "99c1eb92-a7b0-4137-ba67-463f506e15c1",
        "executionInfo": {
          "status": "ok",
          "timestamp": 1525529465369,
          "user_tz": -330,
          "elapsed": 762,
          "user": {
            "displayName": "Paras Jain",
            "photoUrl": "https://lh3.googleusercontent.com/a/default-user=s128",
            "userId": "111167747528656409590"
          }
        }
      },
      "cell_type": "code",
      "source": [
        "print(score)"
      ],
      "execution_count": 14,
      "outputs": [
        {
          "output_type": "stream",
          "text": [
            "[0.039499432829534636, 0.9873]\n"
          ],
          "name": "stdout"
        }
      ]
    },
    {
      "metadata": {
        "id": "SkOzOOrSh85a",
        "colab_type": "code",
        "colab": {
          "autoexec": {
            "startup": false,
            "wait_interval": 0
          }
        }
      },
      "cell_type": "code",
      "source": [
        "y_pred = model.predict(X_test)"
      ],
      "execution_count": 0,
      "outputs": []
    },
    {
      "metadata": {
        "id": "bGI3iivah_39",
        "colab_type": "code",
        "colab": {
          "autoexec": {
            "startup": false,
            "wait_interval": 0
          },
          "base_uri": "https://localhost:8080/",
          "height": 354
        },
        "outputId": "040aeabc-1672-446a-835a-3eca0addb697",
        "executionInfo": {
          "status": "ok",
          "timestamp": 1525529467935,
          "user_tz": -330,
          "elapsed": 774,
          "user": {
            "displayName": "Paras Jain",
            "photoUrl": "https://lh3.googleusercontent.com/a/default-user=s128",
            "userId": "111167747528656409590"
          }
        }
      },
      "cell_type": "code",
      "source": [
        "print(y_pred[:9])\n",
        "print(y_test[:9])"
      ],
      "execution_count": 16,
      "outputs": [
        {
          "output_type": "stream",
          "text": [
            "[[1.2014917e-07 6.1191253e-07 7.5821013e-06 9.4443058e-06 3.1483448e-11\n",
            "  2.7187019e-10 1.1751031e-14 9.9998224e-01 6.7111805e-09 4.9796096e-08]\n",
            " [1.5956553e-03 5.0682458e-04 9.9783605e-01 1.1426669e-06 1.4977489e-08\n",
            "  6.0179403e-11 2.3783730e-05 1.3947260e-10 3.6539910e-05 6.3594805e-09]\n",
            " [1.8894396e-05 9.9935633e-01 5.6702189e-05 7.8812924e-08 4.6256057e-04\n",
            "  1.7576435e-06 4.8006830e-05 2.1811849e-05 2.9426867e-05 4.3400282e-06]\n",
            " [9.9842763e-01 3.4841023e-12 7.6760834e-06 9.5169452e-07 7.2928656e-11\n",
            "  7.2493538e-07 1.5555854e-03 2.8254340e-11 7.2820008e-06 2.0408991e-07]\n",
            " [9.3610564e-10 2.9872322e-08 7.6626513e-08 1.5251520e-09 9.9999094e-01\n",
            "  1.1671112e-08 2.8513759e-07 1.4494961e-08 8.9286260e-08 8.5334486e-06]\n",
            " [2.0205447e-05 9.9965918e-01 3.4824028e-05 4.0580701e-08 2.0287305e-04\n",
            "  1.9803944e-07 2.9269981e-05 3.6587477e-05 1.2466201e-05 4.2067950e-06]\n",
            " [1.8028756e-10 5.1841407e-06 3.4542913e-06 1.0462839e-07 9.9882025e-01\n",
            "  1.3849500e-05 1.6358564e-08 3.1563201e-07 1.1553828e-03 1.4718967e-06]\n",
            " [6.4723650e-07 2.6317645e-07 1.5538456e-06 1.6356645e-06 1.1416107e-03\n",
            "  5.8801679e-06 1.9175758e-10 1.6646165e-08 1.0536872e-04 9.9874300e-01]\n",
            " [5.5487078e-07 1.9502190e-10 2.5811003e-05 2.7351525e-06 6.1213989e-09\n",
            "  9.9966908e-01 1.6451617e-06 9.5951869e-08 2.9484215e-04 5.2590131e-06]]\n",
            "[7 2 1 0 4 1 4 9 5]\n"
          ],
          "name": "stdout"
        }
      ]
    }
  ]
}